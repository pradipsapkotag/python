{
 "cells": [
  {
   "cell_type": "markdown",
   "metadata": {},
   "source": [
    "# Python Advanced Topics\n",
    "Files \\\n",
    "Iterators \\\n",
    "Decorators (basic) \\\n",
    "List comprehension \\\n",
    "Dictionary Comprehension \\\n",
    "**args and **kwargs \\\n",
    "Class \\\n",
    "Inheritance \\\n",
    "Exception Handling \\ \n"
   ]
  },
  {
   "cell_type": "markdown",
   "metadata": {},
   "source": [
    "# Files"
   ]
  },
  {
   "cell_type": "markdown",
   "metadata": {},
   "source": [
    "Python has several functions for creating, reading, updating, and deleting files.\n",
    "\n",
    "\n",
    "the following mode is supported:\n",
    "\n",
    "r: open an existing file for a read operation.\n",
    "w: open an existing file for a write operation. If the file already contains some data then it will be overridden.\n",
    "a:  open an existing file for append operation. It won’t override existing data.\n",
    " r+:  To read and write data into the file. The previous data in the file will be overridden.\n",
    "w+: To write and read data. It will override existing data.\n",
    "a+: To append and read data from the file. It won’t override existing data."
   ]
  },
  {
   "cell_type": "code",
   "execution_count": 1,
   "metadata": {},
   "outputs": [],
   "source": [
    "! touch demofile.txt"
   ]
  },
  {
   "cell_type": "code",
   "execution_count": 33,
   "metadata": {},
   "outputs": [],
   "source": [
    "f = open('demofile.txt')"
   ]
  },
  {
   "cell_type": "code",
   "execution_count": 26,
   "metadata": {},
   "outputs": [
    {
     "name": "stdout",
     "output_type": "stream",
     "text": [
      "Day 1:\n",
      "1. Git [https://www.atlassian.com/git][Windows and Linux DEMO(https://drive.google.com/file/d/1Og9VvCeCVLblGvEK7sNJe9-pws5CrAmg/view?usp=sharing)\n",
      "2. Python installation and group division\n",
      "3.  briefing\n",
      "[few links to learn python]\n",
      "\n",
      "Day 2:\n",
      "1. [few links to learn python]\n",
      "2. Cover these topics\n",
      "\tPython Keywords and Identifiers\n",
      "\tPython Statements, Indentation,Comments\n",
      "\tDocstring\n",
      "\tPython Variable, constant and literal\n",
      "\tPython Data Type\n",
      "\tPython Type Conversion and Type casting\n",
      "\tPython input, output and import\n",
      "\tPython Operators\n",
      "\tPython namespace\n",
      "\tPython Flow Control ( if else )\n",
      "\tPython Loop (for, while)\n",
      "\tPython break, continue and pass\n",
      "\tFunctions\n",
      "\tReturn statement\n",
      "\tFunction Arguments (Default, keyword, arbitrary)\n",
      "\tInbuilt functions\n",
      "\tPython Anonymous/ Lambda Function\n",
      "\tFilters, map functions\n",
      "\tLocal, Global variables\n",
      "\tPython Data Types in details (List, Dictionary, Tuple, Set, Strings)\n",
      "3. Provide kaggle(https://www.kaggle.com/learn/python ) course\n",
      "\t\n",
      "Day 3:\n",
      "Complete kaggle course in first half (till 2.p.m)\n",
      "Upload kaggle certificate to drive (https://drive.google.com/drive/folders/1Pz5oGW9Dw4E1XZaGvKukzCCSxOdMvznM?usp=sharing )\n",
      "Cover advanced topics on python\n",
      "      Python Advanced Topics\n",
      "Files\n",
      "Iterators\n",
      "Decorators (basic)\n",
      "List comprehension\n",
      "Dictionary Comprehension\n",
      "**args and **kwargs\n",
      "Class\n",
      "Inheritance\n",
      "Exception Handling \n",
      "\n",
      "\n",
      "Day 4:\n",
      "Complete advanced topics in first half and push the codes in github till 1 p.m\n",
      "Discussion on Python debugger (https://drive.google.com/file/d/1NsmJRKQwwSfG0iGiJvMrIpTqQcu15jTM/view?usp=sharing)\n",
      "Start codewars practice (https://www.codewars.com/collections/python-practice-1) \n",
      "Practice with a target of level 6 .\n",
      "\n",
      "Day 5:\n",
      "Continue codewars practice (target level 6 and push code into github till 1 p.m) (https://www.codewars.com/collections/python-practice-1) \n",
      "Continue codewars (target 5) till (Day 6 first half) \n",
      "Also, give extra resources for self-study(hackerrank) (https://www.hackerrank.com/domains/python)\n",
      "\n",
      "\n",
      "\n",
      "\n"
     ]
    }
   ],
   "source": [
    "print(f.read())"
   ]
  },
  {
   "cell_type": "code",
   "execution_count": 29,
   "metadata": {},
   "outputs": [
    {
     "name": "stdout",
     "output_type": "stream",
     "text": [
      "Day 1:\n",
      "\n",
      "1. Git [https://www.atlassian.com/git][Windows and Linux DEMO(https://drive.google.com/file/d/1Og9VvCeCVLblGvEK7sNJe9-pws5CrAmg/view?usp=sharing)\n",
      "\n",
      "2. Python installation and group division\n",
      "\n",
      "3.  briefing\n",
      "\n",
      "[few links to learn python]\n",
      "\n",
      "\n",
      "\n",
      "Day 2:\n",
      "\n",
      "1. [few links to learn python]\n",
      "\n",
      "2. Cover these topics\n",
      "\n",
      "\tPython Keywords and Identifiers\n",
      "\n",
      "\tPython Statements, Indentation,Comments\n",
      "\n",
      "\tDocstring\n",
      "\n",
      "\tPython Variable, constant and literal\n",
      "\n",
      "\tPython Data Type\n",
      "\n",
      "\tPython Type Conversion and Type casting\n",
      "\n",
      "\tPython input, output and import\n",
      "\n",
      "\tPython Operators\n",
      "\n",
      "\tPython namespace\n",
      "\n",
      "\tPython Flow Control ( if else )\n",
      "\n",
      "\tPython Loop (for, while)\n",
      "\n",
      "\tPython break, continue and pass\n",
      "\n",
      "\tFunctions\n",
      "\n",
      "\tReturn statement\n",
      "\n",
      "\tFunction Arguments (Default, keyword, arbitrary)\n",
      "\n",
      "\tInbuilt functions\n",
      "\n",
      "\tPython Anonymous/ Lambda Function\n",
      "\n",
      "\tFilters, map functions\n",
      "\n",
      "\tLocal, Global variables\n",
      "\n",
      "\tPython Data Types in details (List, Dictionary, Tuple, Set, Strings)\n",
      "\n",
      "3. Provide kaggle(https://www.kaggle.com/learn/python ) course\n",
      "\n",
      "\t\n",
      "\n",
      "Day 3:\n",
      "\n",
      "Complete kaggle course in first half (till 2.p.m)\n",
      "\n",
      "Upload kaggle certificate to drive (https://drive.google.com/drive/folders/1Pz5oGW9Dw4E1XZaGvKukzCCSxOdMvznM?usp=sharing )\n",
      "\n",
      "Cover advanced topics on python\n",
      "\n",
      "      Python Advanced Topics\n",
      "\n",
      "Files\n",
      "\n",
      "Iterators\n",
      "\n",
      "Decorators (basic)\n",
      "\n",
      "List comprehension\n",
      "\n",
      "Dictionary Comprehension\n",
      "\n",
      "**args and **kwargs\n",
      "\n",
      "Class\n",
      "\n",
      "Inheritance\n",
      "\n",
      "Exception Handling \n",
      "\n",
      "\n",
      "\n",
      "\n",
      "\n",
      "Day 4:\n",
      "\n",
      "Complete advanced topics in first half and push the codes in github till 1 p.m\n",
      "\n",
      "Discussion on Python debugger (https://drive.google.com/file/d/1NsmJRKQwwSfG0iGiJvMrIpTqQcu15jTM/view?usp=sharing)\n",
      "\n",
      "Start codewars practice (https://www.codewars.com/collections/python-practice-1) \n",
      "\n",
      "Practice with a target of level 6 .\n",
      "\n",
      "\n",
      "\n",
      "Day 5:\n",
      "\n",
      "Continue codewars practice (target level 6 and push code into github till 1 p.m) (https://www.codewars.com/collections/python-practice-1) \n",
      "\n",
      "Continue codewars (target 5) till (Day 6 first half) \n",
      "\n",
      "Also, give extra resources for self-study(hackerrank) (https://www.hackerrank.com/domains/python)\n",
      "\n",
      "\n",
      "\n",
      "\n",
      "\n",
      "\n",
      "\n"
     ]
    }
   ],
   "source": [
    "for x in f:\n",
    "    print(x)"
   ]
  },
  {
   "cell_type": "code",
   "execution_count": 32,
   "metadata": {},
   "outputs": [
    {
     "name": "stdout",
     "output_type": "stream",
     "text": [
      "Day 1:\n",
      "\n"
     ]
    }
   ],
   "source": [
    "print(f.readline())"
   ]
  },
  {
   "cell_type": "code",
   "execution_count": 34,
   "metadata": {},
   "outputs": [
    {
     "name": "stdout",
     "output_type": "stream",
     "text": [
      "Day 1:\n",
      "1. Git [https://www.atlassian.com/git][Windows and Linux DEMO(https://drive.google.com/file/d\n"
     ]
    }
   ],
   "source": [
    "print(f.read(100))"
   ]
  },
  {
   "cell_type": "code",
   "execution_count": 35,
   "metadata": {},
   "outputs": [],
   "source": [
    "f = open(\"demofile.txt\", \"a\")\n",
    "f.write(\"Now the file has more content!\")\n",
    "f.close()"
   ]
  },
  {
   "cell_type": "code",
   "execution_count": 37,
   "metadata": {},
   "outputs": [
    {
     "name": "stdout",
     "output_type": "stream",
     "text": [
      "Day 1:\n",
      "1. Git [https://www.atlassian.com/git][Windows and Linux DEMO(https://drive.google.com/file/d/1Og9VvCeCVLblGvEK7sNJe9-pws5CrAmg/view?usp=sharing)\n",
      "2. Python installation and group division\n",
      "3.  briefing\n",
      "[few links to learn python]\n",
      "\n",
      "Day 2:\n",
      "1. [few links to learn python]\n",
      "2. Cover these topics\n",
      "\tPython Keywords and Identifiers\n",
      "\tPython Statements, Indentation,Comments\n",
      "\tDocstring\n",
      "\tPython Variable, constant and literal\n",
      "\tPython Data Type\n",
      "\tPython Type Conversion and Type casting\n",
      "\tPython input, output and import\n",
      "\tPython Operators\n",
      "\tPython namespace\n",
      "\tPython Flow Control ( if else )\n",
      "\tPython Loop (for, while)\n",
      "\tPython break, continue and pass\n",
      "\tFunctions\n",
      "\tReturn statement\n",
      "\tFunction Arguments (Default, keyword, arbitrary)\n",
      "\tInbuilt functions\n",
      "\tPython Anonymous/ Lambda Function\n",
      "\tFilters, map functions\n",
      "\tLocal, Global variables\n",
      "\tPython Data Types in details (List, Dictionary, Tuple, Set, Strings)\n",
      "3. Provide kaggle(https://www.kaggle.com/learn/python ) course\n",
      "\t\n",
      "Day 3:\n",
      "Complete kaggle course in first half (till 2.p.m)\n",
      "Upload kaggle certificate to drive (https://drive.google.com/drive/folders/1Pz5oGW9Dw4E1XZaGvKukzCCSxOdMvznM?usp=sharing )\n",
      "Cover advanced topics on python\n",
      "      Python Advanced Topics\n",
      "Files\n",
      "Iterators\n",
      "Decorators (basic)\n",
      "List comprehension\n",
      "Dictionary Comprehension\n",
      "**args and **kwargs\n",
      "Class\n",
      "Inheritance\n",
      "Exception Handling \n",
      "\n",
      "\n",
      "Day 4:\n",
      "Complete advanced topics in first half and push the codes in github till 1 p.m\n",
      "Discussion on Python debugger (https://drive.google.com/file/d/1NsmJRKQwwSfG0iGiJvMrIpTqQcu15jTM/view?usp=sharing)\n",
      "Start codewars practice (https://www.codewars.com/collections/python-practice-1) \n",
      "Practice with a target of level 6 .\n",
      "\n",
      "Day 5:\n",
      "Continue codewars practice (target level 6 and push code into github till 1 p.m) (https://www.codewars.com/collections/python-practice-1) \n",
      "Continue codewars (target 5) till (Day 6 first half) \n",
      "Also, give extra resources for self-study(hackerrank) (https://www.hackerrank.com/domains/python)\n",
      "\n",
      "\n",
      "\n",
      "Now the file has more content!\n"
     ]
    }
   ],
   "source": [
    "f = open(\"demofile.txt\", \"r\")\n",
    "print(f.read())"
   ]
  },
  {
   "cell_type": "markdown",
   "metadata": {},
   "source": [
    "# Iterators"
   ]
  },
  {
   "cell_type": "markdown",
   "metadata": {},
   "source": [
    "An iterator is an object that contains a countable number of values.\n",
    "\n",
    "An iterator is an object that can be iterated upon, meaning that you can traverse through all the values."
   ]
  },
  {
   "cell_type": "code",
   "execution_count": 39,
   "metadata": {},
   "outputs": [],
   "source": [
    "mytuple = (\"apple\", \"banana\", \"cherry\")\n",
    "myit = iter(mytuple)\n"
   ]
  },
  {
   "cell_type": "code",
   "execution_count": 40,
   "metadata": {},
   "outputs": [
    {
     "name": "stdout",
     "output_type": "stream",
     "text": [
      "apple\n",
      "banana\n",
      "cherry\n"
     ]
    }
   ],
   "source": [
    "print(next(myit))\n",
    "print(next(myit))\n",
    "print(next(myit))\n"
   ]
  },
  {
   "cell_type": "code",
   "execution_count": 41,
   "metadata": {},
   "outputs": [
    {
     "ename": "StopIteration",
     "evalue": "",
     "output_type": "error",
     "traceback": [
      "\u001b[0;31m---------------------------------------------------------------------------\u001b[0m",
      "\u001b[0;31mStopIteration\u001b[0m                             Traceback (most recent call last)",
      "Input \u001b[0;32mIn [41]\u001b[0m, in \u001b[0;36m<module>\u001b[0;34m\u001b[0m\n\u001b[0;32m----> 1\u001b[0m \u001b[38;5;28mprint\u001b[39m(\u001b[38;5;28;43mnext\u001b[39;49m\u001b[43m(\u001b[49m\u001b[43mmyit\u001b[49m\u001b[43m)\u001b[49m)\n",
      "\u001b[0;31mStopIteration\u001b[0m: "
     ]
    }
   ],
   "source": [
    "print(next(myit))"
   ]
  },
  {
   "cell_type": "code",
   "execution_count": 42,
   "metadata": {},
   "outputs": [
    {
     "name": "stdout",
     "output_type": "stream",
     "text": [
      "b\n",
      "a\n",
      "n\n",
      "a\n",
      "n\n",
      "a\n"
     ]
    }
   ],
   "source": [
    "mystr = \"banana\"\n",
    "myit = iter(mystr)\n",
    "\n",
    "print(next(myit))\n",
    "print(next(myit))\n",
    "print(next(myit))\n",
    "print(next(myit))\n",
    "print(next(myit))\n",
    "print(next(myit))"
   ]
  },
  {
   "cell_type": "code",
   "execution_count": 44,
   "metadata": {},
   "outputs": [
    {
     "name": "stdout",
     "output_type": "stream",
     "text": [
      "apple\n",
      "banana\n",
      "cherry\n"
     ]
    }
   ],
   "source": [
    "mytuple = (\"apple\", \"banana\", \"cherry\")\n",
    "\n",
    "for x in mytuple:\n",
    "    print(x)"
   ]
  },
  {
   "cell_type": "code",
   "execution_count": 45,
   "metadata": {},
   "outputs": [
    {
     "name": "stdout",
     "output_type": "stream",
     "text": [
      "b\n",
      "a\n",
      "n\n",
      "a\n",
      "n\n",
      "a\n"
     ]
    }
   ],
   "source": [
    "mystr = \"banana\"\n",
    "\n",
    "for x in mystr:\n",
    "    print(x)"
   ]
  },
  {
   "cell_type": "code",
   "execution_count": 54,
   "metadata": {},
   "outputs": [],
   "source": [
    "class MyNumbers:\n",
    "    def __iter__(self):\n",
    "        self.a = 1\n",
    "        return self\n",
    "\n",
    "    def __next__(self):\n",
    "        x = self.a\n",
    "        self.a += 1\n",
    "        return x"
   ]
  },
  {
   "cell_type": "code",
   "execution_count": 55,
   "metadata": {},
   "outputs": [],
   "source": [
    "myclass = MyNumbers()\n",
    "myiter = iter(myclass)"
   ]
  },
  {
   "cell_type": "code",
   "execution_count": 56,
   "metadata": {},
   "outputs": [
    {
     "name": "stdout",
     "output_type": "stream",
     "text": [
      "1 \n",
      "2 3 4 5 6 7 8 9 10 11 \n",
      "12 13 14 15 16 17 18 19 20 21 \n",
      "22 23 24 25 26 27 28 29 30 31 \n",
      "32 33 34 35 36 37 38 39 40 41 \n",
      "42 43 44 45 46 47 48 49 50 51 \n",
      "52 53 54 55 56 57 58 59 60 61 \n",
      "62 63 64 65 66 67 68 69 70 71 \n",
      "72 73 74 75 76 77 78 79 80 81 \n",
      "82 83 84 85 86 87 88 89 90 91 \n",
      "92 93 94 95 96 97 98 99 100 "
     ]
    }
   ],
   "source": [
    "for i in range(100):\n",
    "    print(next(myiter), end = ' ')\n",
    "    if(i%10 ==0):\n",
    "        print()"
   ]
  },
  {
   "cell_type": "code",
   "execution_count": 57,
   "metadata": {},
   "outputs": [],
   "source": [
    "class MyNumbers:\n",
    "    def __iter__(self):\n",
    "        self.a = 1\n",
    "        return self\n",
    "\n",
    "    def __next__(self):\n",
    "        if self.a <= 20:\n",
    "            x = self.a\n",
    "            self.a += 1\n",
    "            return x\n",
    "        else:\n",
    "            raise StopIteration"
   ]
  },
  {
   "cell_type": "code",
   "execution_count": 58,
   "metadata": {},
   "outputs": [],
   "source": [
    "myclass = MyNumbers()\n",
    "myiter = iter(myclass)"
   ]
  },
  {
   "cell_type": "code",
   "execution_count": 59,
   "metadata": {},
   "outputs": [
    {
     "name": "stdout",
     "output_type": "stream",
     "text": [
      "1\n",
      "2\n",
      "3\n",
      "4\n",
      "5\n",
      "6\n",
      "7\n",
      "8\n",
      "9\n",
      "10\n",
      "11\n",
      "12\n",
      "13\n",
      "14\n",
      "15\n",
      "16\n",
      "17\n",
      "18\n",
      "19\n",
      "20\n"
     ]
    }
   ],
   "source": [
    "for x in myiter:\n",
    "    print(x)"
   ]
  },
  {
   "cell_type": "code",
   "execution_count": 62,
   "metadata": {},
   "outputs": [
    {
     "ename": "StopIteration",
     "evalue": "",
     "output_type": "error",
     "traceback": [
      "\u001b[0;31m---------------------------------------------------------------------------\u001b[0m",
      "\u001b[0;31mStopIteration\u001b[0m                             Traceback (most recent call last)",
      "Input \u001b[0;32mIn [62]\u001b[0m, in \u001b[0;36m<module>\u001b[0;34m\u001b[0m\n\u001b[0;32m----> 1\u001b[0m \u001b[38;5;28;43mnext\u001b[39;49m\u001b[43m(\u001b[49m\u001b[43mmyiter\u001b[49m\u001b[43m)\u001b[49m\n",
      "Input \u001b[0;32mIn [57]\u001b[0m, in \u001b[0;36mMyNumbers.__next__\u001b[0;34m(self)\u001b[0m\n\u001b[1;32m     10\u001b[0m     \u001b[38;5;28;01mreturn\u001b[39;00m x\n\u001b[1;32m     11\u001b[0m \u001b[38;5;28;01melse\u001b[39;00m:\n\u001b[0;32m---> 12\u001b[0m     \u001b[38;5;28;01mraise\u001b[39;00m \u001b[38;5;167;01mStopIteration\u001b[39;00m\n",
      "\u001b[0;31mStopIteration\u001b[0m: "
     ]
    }
   ],
   "source": [
    "next(myiter)"
   ]
  },
  {
   "cell_type": "markdown",
   "metadata": {},
   "source": [
    "# Decorators"
   ]
  },
  {
   "cell_type": "markdown",
   "metadata": {},
   "source": [
    "Python has an interesting feature called decorators to add functionality to an existing code.\n",
    "\n",
    "This is also called metaprogramming because a part of the program tries to modify another part of the program at compile time."
   ]
  },
  {
   "cell_type": "code",
   "execution_count": 66,
   "metadata": {},
   "outputs": [],
   "source": [
    "from datetime import datetime"
   ]
  },
  {
   "cell_type": "code",
   "execution_count": 77,
   "metadata": {},
   "outputs": [],
   "source": [
    "def not_during_the_night(func):\n",
    "    def wrapper():\n",
    "        if 7 <= datetime.now().hour < 18:\n",
    "            func()\n",
    "        else:\n",
    "            print('the neighbors are asleep')\n",
    "    return wrapper\n",
    "\n",
    "def say_whee():\n",
    "    print(\"Whee!\")"
   ]
  },
  {
   "cell_type": "code",
   "execution_count": 78,
   "metadata": {},
   "outputs": [],
   "source": [
    "\n",
    "say_whee = not_during_the_night(say_whee)"
   ]
  },
  {
   "cell_type": "code",
   "execution_count": 79,
   "metadata": {},
   "outputs": [
    {
     "name": "stdout",
     "output_type": "stream",
     "text": [
      "the neighbors are asleep\n"
     ]
    }
   ],
   "source": [
    "say_whee()"
   ]
  },
  {
   "cell_type": "code",
   "execution_count": 80,
   "metadata": {},
   "outputs": [],
   "source": [
    "def my_decorator(func):\n",
    "    def wrapper():\n",
    "        print(\"Something is happening before the function is called.\")\n",
    "        func()\n",
    "        print(\"Something is happening after the function is called.\")\n",
    "    return wrapper\n",
    "\n",
    "@my_decorator\n",
    "def say_whee():\n",
    "    print(\"Whee!\")"
   ]
  },
  {
   "cell_type": "code",
   "execution_count": 81,
   "metadata": {},
   "outputs": [
    {
     "name": "stdout",
     "output_type": "stream",
     "text": [
      "Something is happening before the function is called.\n",
      "Whee!\n",
      "Something is happening after the function is called.\n"
     ]
    }
   ],
   "source": [
    "say_whee()"
   ]
  },
  {
   "cell_type": "code",
   "execution_count": 82,
   "metadata": {},
   "outputs": [],
   "source": [
    "def do_twice(func):\n",
    "    def wrapper_do_twice():\n",
    "        func()\n",
    "        func()\n",
    "    return wrapper_do_twice\n",
    "@do_twice\n",
    "def say_whee():\n",
    "    print(\"Whee!\")\n"
   ]
  },
  {
   "cell_type": "code",
   "execution_count": 83,
   "metadata": {},
   "outputs": [
    {
     "name": "stdout",
     "output_type": "stream",
     "text": [
      "Whee!\n",
      "Whee!\n"
     ]
    }
   ],
   "source": [
    "say_whee()"
   ]
  },
  {
   "cell_type": "markdown",
   "metadata": {},
   "source": [
    "# List comprehension"
   ]
  },
  {
   "cell_type": "markdown",
   "metadata": {},
   "source": [
    "List comprehension offers a shorter syntax when you want to create a new list based on the values of an existing list."
   ]
  },
  {
   "cell_type": "code",
   "execution_count": 84,
   "metadata": {},
   "outputs": [
    {
     "name": "stdout",
     "output_type": "stream",
     "text": [
      "[0, 10, 20, 30, 40, 50, 60, 70, 80, 90]\n"
     ]
    }
   ],
   "source": [
    "num_list = [y for y in range(100) if y % 2 == 0 if y % 5 == 0]\n",
    "print(num_list)"
   ]
  },
  {
   "cell_type": "code",
   "execution_count": 88,
   "metadata": {},
   "outputs": [
    {
     "data": {
      "text/plain": [
       "[2, 4, 6, 8, 10]"
      ]
     },
     "execution_count": 88,
     "metadata": {},
     "output_type": "execute_result"
    }
   ],
   "source": [
    "# even numbers upto 10\n",
    "[i for i in range(1,11) if i%2==0]"
   ]
  },
  {
   "cell_type": "code",
   "execution_count": 89,
   "metadata": {},
   "outputs": [
    {
     "data": {
      "text/plain": [
       "[[0, 1, 2, 3, 4, 5, 6, 7, 8, 9],\n",
       " [0, 1, 2, 3, 4, 5, 6, 7, 8, 9],\n",
       " [0, 1, 2, 3, 4, 5, 6, 7, 8, 9],\n",
       " [0, 1, 2, 3, 4, 5, 6, 7, 8, 9],\n",
       " [0, 1, 2, 3, 4, 5, 6, 7, 8, 9],\n",
       " [0, 1, 2, 3, 4, 5, 6, 7, 8, 9],\n",
       " [0, 1, 2, 3, 4, 5, 6, 7, 8, 9],\n",
       " [0, 1, 2, 3, 4, 5, 6, 7, 8, 9],\n",
       " [0, 1, 2, 3, 4, 5, 6, 7, 8, 9],\n",
       " [0, 1, 2, 3, 4, 5, 6, 7, 8, 9]]"
      ]
     },
     "execution_count": 89,
     "metadata": {},
     "output_type": "execute_result"
    }
   ],
   "source": [
    "[[i for i in range(10)] for i in range(10)]"
   ]
  },
  {
   "cell_type": "code",
   "execution_count": 91,
   "metadata": {},
   "outputs": [
    {
     "data": {
      "text/plain": [
       "[False,\n",
       " True,\n",
       " False,\n",
       " True,\n",
       " False,\n",
       " True,\n",
       " False,\n",
       " True,\n",
       " False,\n",
       " True,\n",
       " False,\n",
       " True,\n",
       " False,\n",
       " True,\n",
       " False,\n",
       " True,\n",
       " False,\n",
       " True,\n",
       " False,\n",
       " True]"
      ]
     },
     "execution_count": 91,
     "metadata": {},
     "output_type": "execute_result"
    }
   ],
   "source": [
    "[i%2==0 for i in range(1,21)]"
   ]
  },
  {
   "cell_type": "markdown",
   "metadata": {},
   "source": [
    "# Dictionary Comprehension"
   ]
  },
  {
   "cell_type": "markdown",
   "metadata": {},
   "source": [
    "dictionary comprehension offers a shorter syntax when you want to create a new dictionary based on the values of an existing disctionary."
   ]
  },
  {
   "cell_type": "code",
   "execution_count": 94,
   "metadata": {},
   "outputs": [
    {
     "name": "stdout",
     "output_type": "stream",
     "text": [
      "{1: 1, 2: 4, 3: 9, 4: 16, 5: 25}\n"
     ]
    }
   ],
   "source": [
    "square_dict = {num: num**2 for num in range(1, 6)}\n",
    "print(square_dict)"
   ]
  },
  {
   "cell_type": "code",
   "execution_count": 99,
   "metadata": {},
   "outputs": [
    {
     "name": "stdout",
     "output_type": "stream",
     "text": [
      "{'iphone13': 148676, 'jacket': 31000, 'jeanspant': 12400}\n"
     ]
    }
   ],
   "source": [
    "usd_price = {'iphone13': 1199, 'jacket': 250, 'jeanspant': 100}\n",
    "\n",
    "dollar_to_nrs = 124\n",
    "nrs_price = {item: value*dollar_to_nrs for (item, value) in usd_price.items()}\n",
    "print(nrs_price)"
   ]
  },
  {
   "cell_type": "code",
   "execution_count": 100,
   "metadata": {},
   "outputs": [
    {
     "name": "stdout",
     "output_type": "stream",
     "text": [
      "{'jack': 38, 'michael': 48}\n"
     ]
    }
   ],
   "source": [
    "original_dict = {'jack': 38, 'michael': 48, 'guido': 57, 'john': 33}\n",
    "\n",
    "even_dict = {k: v for (k, v) in original_dict.items() if v % 2 == 0}\n",
    "print(even_dict)"
   ]
  },
  {
   "cell_type": "code",
   "execution_count": 101,
   "metadata": {},
   "outputs": [
    {
     "name": "stdout",
     "output_type": "stream",
     "text": [
      "{'john': 33}\n"
     ]
    }
   ],
   "source": [
    "original_dict = {'jack': 38, 'michael': 48, 'guido': 57, 'john': 33}\n",
    "\n",
    "new_dict = {k: v for (k, v) in original_dict.items() if v % 2 != 0 and v < 40}\n",
    "print(new_dict)"
   ]
  },
  {
   "cell_type": "code",
   "execution_count": 103,
   "metadata": {},
   "outputs": [
    {
     "name": "stdout",
     "output_type": "stream",
     "text": [
      "{'jack': 'young', 'michael': 'old', 'guido': 'old', 'john': 'young'}\n"
     ]
    }
   ],
   "source": [
    "original_dict = {'jack': 38, 'michael': 48, 'guido': 57, 'john': 33}\n",
    "\n",
    "new_dict_1 = {k: ('old' if v > 40 else 'young') for (k, v) in original_dict.items()}\n",
    "print(new_dict_1)"
   ]
  },
  {
   "cell_type": "markdown",
   "metadata": {},
   "source": [
    "# *args and *kwargs"
   ]
  },
  {
   "cell_type": "markdown",
   "metadata": {},
   "source": [
    "These make a Python function flexible so it can accept a variable number of arguments and keyword arguments"
   ]
  },
  {
   "cell_type": "code",
   "execution_count": 104,
   "metadata": {},
   "outputs": [],
   "source": [
    "def add(*numbers):\n",
    "    total = 0\n",
    "    for num in numbers:\n",
    "        total += num\n",
    "    return total"
   ]
  },
  {
   "cell_type": "code",
   "execution_count": 105,
   "metadata": {},
   "outputs": [
    {
     "name": "stdout",
     "output_type": "stream",
     "text": [
      "5\n"
     ]
    }
   ],
   "source": [
    "print(add(2, 3))\n"
   ]
  },
  {
   "cell_type": "code",
   "execution_count": 106,
   "metadata": {},
   "outputs": [
    {
     "name": "stdout",
     "output_type": "stream",
     "text": [
      "10\n"
     ]
    }
   ],
   "source": [
    "print(add(2, 3, 5))\n"
   ]
  },
  {
   "cell_type": "code",
   "execution_count": 107,
   "metadata": {},
   "outputs": [
    {
     "name": "stdout",
     "output_type": "stream",
     "text": [
      "17\n"
     ]
    }
   ],
   "source": [
    "print(add(2, 3, 5, 7))\n"
   ]
  },
  {
   "cell_type": "code",
   "execution_count": 108,
   "metadata": {},
   "outputs": [
    {
     "name": "stdout",
     "output_type": "stream",
     "text": [
      "26\n"
     ]
    }
   ],
   "source": [
    "print(add(2, 3, 5, 7, 9))"
   ]
  },
  {
   "cell_type": "code",
   "execution_count": 109,
   "metadata": {},
   "outputs": [],
   "source": [
    "def total_fruits(**fruits):\n",
    "    total = 0\n",
    "    for amount in fruits.values():\n",
    "        total += amount\n",
    "    return total"
   ]
  },
  {
   "cell_type": "code",
   "execution_count": 110,
   "metadata": {},
   "outputs": [
    {
     "name": "stdout",
     "output_type": "stream",
     "text": [
      "20\n"
     ]
    }
   ],
   "source": [
    "print(total_fruits(banana=5, mango=7, apple=8))"
   ]
  },
  {
   "cell_type": "code",
   "execution_count": 111,
   "metadata": {},
   "outputs": [
    {
     "name": "stdout",
     "output_type": "stream",
     "text": [
      "30\n"
     ]
    }
   ],
   "source": [
    "print(total_fruits(banana=5, mango=7, apple=8, oranges=10))"
   ]
  },
  {
   "cell_type": "code",
   "execution_count": 112,
   "metadata": {},
   "outputs": [
    {
     "name": "stdout",
     "output_type": "stream",
     "text": [
      "12\n"
     ]
    }
   ],
   "source": [
    "print(total_fruits(banana=5, mango=7))"
   ]
  },
  {
   "cell_type": "markdown",
   "metadata": {},
   "source": [
    "# Class"
   ]
  },
  {
   "cell_type": "code",
   "execution_count": 114,
   "metadata": {},
   "outputs": [],
   "source": [
    "class Queue:\n",
    "    def __init__(self):\n",
    "        self.items = []\n",
    "\n",
    "    def isEmpty(self):\n",
    "        return self.items == []\n",
    "\n",
    "    def enqueue(self, item):\n",
    "        self.items.insert(0,item)\n",
    "\n",
    "    def dequeue(self):\n",
    "        return self.items.pop()\n",
    "\n",
    "    def size(self):\n",
    "        return len(self.items)"
   ]
  },
  {
   "cell_type": "code",
   "execution_count": 116,
   "metadata": {},
   "outputs": [],
   "source": [
    "q= Queue()"
   ]
  },
  {
   "cell_type": "code",
   "execution_count": 117,
   "metadata": {},
   "outputs": [
    {
     "data": {
      "text/plain": [
       "0"
      ]
     },
     "execution_count": 117,
     "metadata": {},
     "output_type": "execute_result"
    }
   ],
   "source": [
    "q.size()"
   ]
  },
  {
   "cell_type": "code",
   "execution_count": 118,
   "metadata": {},
   "outputs": [],
   "source": [
    "q.enqueue(4)"
   ]
  },
  {
   "cell_type": "code",
   "execution_count": 119,
   "metadata": {},
   "outputs": [],
   "source": [
    "q.enqueue('dog')"
   ]
  },
  {
   "cell_type": "code",
   "execution_count": 120,
   "metadata": {},
   "outputs": [],
   "source": [
    "q.enqueue(True)"
   ]
  },
  {
   "cell_type": "code",
   "execution_count": 121,
   "metadata": {},
   "outputs": [
    {
     "data": {
      "text/plain": [
       "3"
      ]
     },
     "execution_count": 121,
     "metadata": {},
     "output_type": "execute_result"
    }
   ],
   "source": [
    "q.size()"
   ]
  },
  {
   "cell_type": "code",
   "execution_count": 122,
   "metadata": {},
   "outputs": [
    {
     "data": {
      "text/plain": [
       "4"
      ]
     },
     "execution_count": 122,
     "metadata": {},
     "output_type": "execute_result"
    }
   ],
   "source": [
    "q.dequeue()"
   ]
  },
  {
   "cell_type": "code",
   "execution_count": 123,
   "metadata": {},
   "outputs": [
    {
     "data": {
      "text/plain": [
       "'dog'"
      ]
     },
     "execution_count": 123,
     "metadata": {},
     "output_type": "execute_result"
    }
   ],
   "source": [
    "q.dequeue()"
   ]
  },
  {
   "cell_type": "code",
   "execution_count": 124,
   "metadata": {},
   "outputs": [
    {
     "data": {
      "text/plain": [
       "1"
      ]
     },
     "execution_count": 124,
     "metadata": {},
     "output_type": "execute_result"
    }
   ],
   "source": [
    "q.size()"
   ]
  },
  {
   "cell_type": "markdown",
   "metadata": {},
   "source": [
    "# Inheritance"
   ]
  },
  {
   "cell_type": "code",
   "execution_count": 132,
   "metadata": {},
   "outputs": [],
   "source": [
    "class myClass():\n",
    "    def method1(self):\n",
    "        print(\"From parent method 1\")\n",
    "        \n",
    "class childClass(myClass):\n",
    "    def method2(self):\n",
    "        print(\"from childClass method2\")     \n",
    "         "
   ]
  },
  {
   "cell_type": "code",
   "execution_count": 133,
   "metadata": {},
   "outputs": [
    {
     "name": "stdout",
     "output_type": "stream",
     "text": [
      "From parent method 1\n"
     ]
    }
   ],
   "source": [
    "c2 = childClass()\n",
    "c2.method1()"
   ]
  },
  {
   "cell_type": "code",
   "execution_count": 134,
   "metadata": {},
   "outputs": [
    {
     "name": "stdout",
     "output_type": "stream",
     "text": [
      "from childClass method2\n"
     ]
    }
   ],
   "source": [
    "c2.method2()"
   ]
  },
  {
   "cell_type": "code",
   "execution_count": 139,
   "metadata": {},
   "outputs": [],
   "source": [
    "class Polygon:\n",
    "    def __init__(self, no_of_sides):\n",
    "        self.n = no_of_sides\n",
    "        self.sides = [0 for i in range(no_of_sides)]\n",
    "\n",
    "    def inputSides(self):\n",
    "        self.sides = [float(input(\"Enter side \"+str(i+1)+\" : \")) for i in range(self.n)]\n",
    "\n",
    "    def dispSides(self):\n",
    "        for i in range(self.n):\n",
    "            print(\"Side\",i+1,\"is\",self.sides[i])"
   ]
  },
  {
   "cell_type": "code",
   "execution_count": 144,
   "metadata": {},
   "outputs": [],
   "source": [
    "class Triangle(Polygon):\n",
    "    def __init__(self):\n",
    "        Polygon.__init__(self,3)\n",
    "\n",
    "    def findArea(self):\n",
    "        a, b, c = self.sides\n",
    "        # calculate the semi-perimeter\n",
    "        s = (a + b + c) / 2\n",
    "        area = (s*(s-a)*(s-b)*(s-c)) ** 0.5\n",
    "        print('The area of the triangle is %0.2f' %area)"
   ]
  },
  {
   "cell_type": "code",
   "execution_count": 137,
   "metadata": {},
   "outputs": [],
   "source": [
    "t= Triangle()"
   ]
  },
  {
   "cell_type": "code",
   "execution_count": 141,
   "metadata": {},
   "outputs": [
    {
     "name": "stdin",
     "output_type": "stream",
     "text": [
      "Enter side 1 :  3\n",
      "Enter side 2 :  5\n",
      "Enter side 3 :  4\n"
     ]
    }
   ],
   "source": [
    "t.inputSides()"
   ]
  },
  {
   "cell_type": "code",
   "execution_count": 142,
   "metadata": {},
   "outputs": [
    {
     "name": "stdout",
     "output_type": "stream",
     "text": [
      "Side 1 is 3.0\n",
      "Side 2 is 5.0\n",
      "Side 3 is 4.0\n"
     ]
    }
   ],
   "source": [
    "t.dispSides()"
   ]
  },
  {
   "cell_type": "code",
   "execution_count": 143,
   "metadata": {},
   "outputs": [
    {
     "name": "stdout",
     "output_type": "stream",
     "text": [
      "The area of the triangle is 6.00\n"
     ]
    }
   ],
   "source": [
    "t.findArea()"
   ]
  },
  {
   "cell_type": "markdown",
   "metadata": {},
   "source": [
    "# Exception Handling"
   ]
  },
  {
   "cell_type": "code",
   "execution_count": 145,
   "metadata": {},
   "outputs": [],
   "source": [
    "def divide(x, y):\n",
    "    try:\n",
    "        result = x / y\n",
    "    except ZeroDivisionError:\n",
    "        print(\"division by zero!\")\n",
    "    else:\n",
    "        print(\"result is\", result)\n",
    "    finally:\n",
    "        print(\"executing finally clause\")"
   ]
  },
  {
   "cell_type": "code",
   "execution_count": 146,
   "metadata": {},
   "outputs": [
    {
     "name": "stdout",
     "output_type": "stream",
     "text": [
      "result is 2.5\n",
      "executing finally clause\n"
     ]
    }
   ],
   "source": [
    "divide(5,2)"
   ]
  },
  {
   "cell_type": "code",
   "execution_count": 147,
   "metadata": {},
   "outputs": [
    {
     "name": "stdout",
     "output_type": "stream",
     "text": [
      "division by zero!\n",
      "executing finally clause\n"
     ]
    }
   ],
   "source": [
    "divide(5,0)"
   ]
  },
  {
   "cell_type": "code",
   "execution_count": null,
   "metadata": {},
   "outputs": [],
   "source": []
  }
 ],
 "metadata": {
  "kernelspec": {
   "display_name": "Python 3 (ipykernel)",
   "language": "python",
   "name": "python3"
  },
  "language_info": {
   "codemirror_mode": {
    "name": "ipython",
    "version": 3
   },
   "file_extension": ".py",
   "mimetype": "text/x-python",
   "name": "python",
   "nbconvert_exporter": "python",
   "pygments_lexer": "ipython3",
   "version": "3.8.3"
  }
 },
 "nbformat": 4,
 "nbformat_minor": 4
}
